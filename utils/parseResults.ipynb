{
 "cells": [
  {
   "cell_type": "code",
   "execution_count": null,
   "id": "6c2b27e6",
   "metadata": {},
   "outputs": [],
   "source": [
    "import pandas as pd\n",
    "import os\n",
    "import pathlib\n",
    "import matplotlib.pyplot as plt"
   ]
  },
  {
   "cell_type": "code",
   "execution_count": null,
   "id": "cacdcbce",
   "metadata": {},
   "outputs": [],
   "source": [
    "resultDate = \"2025_05_12__21_44\"\n",
    "\n",
    "csvsPath = f\"../src/EntityFX.MqttSimulator/EntityFX.MqttY.Cli/bin/Release/net6.0/results/{resultDate}\"\n",
    "\n",
    "cwd = os.getcwd()\n",
    "\n",
    "csvFiles = []\n",
    "for file in pathlib.Path(csvsPath).rglob('*.csv'):\n",
    "    csvFiles.append(file)\n",
    "\n",
    "if not os.path.isdir(resultDate):\n",
    "    os.mkdir(resultDate)"
   ]
  },
  {
   "cell_type": "code",
   "execution_count": null,
   "id": "6c170d06",
   "metadata": {},
   "outputs": [],
   "source": [
    "\n",
    "for csv in csvFiles:\n",
    "    df = pd.read_csv(csv, delimiter=';',decimal='.', encoding=\"utf8\")\n",
    "    df.head()\n",
    "\n",
    "    header = str(csv).replace('\\\\','/').replace(csvsPath, ' ')\n",
    "    plotPictureName = f\"{header.replace('/','_')}.png\"\n",
    "\n",
    "    fig = plt.figure()\n",
    "    ax = fig.add_subplot()\n",
    "    fig.subplots_adjust(top=0.85)\n",
    "    ax.set_title(header)\n",
    "    ax.set_xlabel(df.columns[0])\n",
    "    ax.set_ylabel(df.columns[1])\n",
    "\n",
    "    plt.figure(figsize=(3, 2))#Graph size\n",
    "    ax.plot(df[df.columns[0]], df[df.columns[1]])\n",
    "    fig.savefig(f\"{resultDate}/{plotPictureName}\")\n",
    "    #plt.show()\n",
    "\n",
    "\n"
   ]
  }
 ],
 "metadata": {
  "kernelspec": {
   "display_name": "Python 3",
   "language": "python",
   "name": "python3"
  },
  "language_info": {
   "codemirror_mode": {
    "name": "ipython",
    "version": 3
   },
   "file_extension": ".py",
   "mimetype": "text/x-python",
   "name": "python",
   "nbconvert_exporter": "python",
   "pygments_lexer": "ipython3",
   "version": "3.11.3"
  }
 },
 "nbformat": 4,
 "nbformat_minor": 5
}
